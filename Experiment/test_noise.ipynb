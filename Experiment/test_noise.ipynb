{
  "nbformat": 4,
  "nbformat_minor": 0,
  "metadata": {
    "colab": {
      "provenance": []
    },
    "kernelspec": {
      "name": "python3",
      "display_name": "Python 3"
    },
    "language_info": {
      "name": "python"
    }
  },
  "cells": [
    {
      "cell_type": "code",
      "execution_count": 1,
      "metadata": {
        "colab": {
          "base_uri": "https://localhost:8080/"
        },
        "id": "Cd69PaSITep9",
        "outputId": "d56d2ba8-e879-4665-94a4-563cb80f9bb1"
      },
      "outputs": [
        {
          "output_type": "stream",
          "name": "stdout",
          "text": [
            "Mounted at /content/drive\n"
          ]
        }
      ],
      "source": [
        "from google.colab import drive\n",
        "drive.mount('/content/drive')"
      ]
    },
    {
      "cell_type": "code",
      "source": [
        "import numpy as np\n",
        "import librosa\n",
        "import librosa.display\n",
        "import matplotlib.pyplot as plt\n",
        "from tqdm import tqdm\n",
        "import glob"
      ],
      "metadata": {
        "id": "qunDHQmkUPBY"
      },
      "execution_count": 2,
      "outputs": []
    },
    {
      "cell_type": "code",
      "source": [
        "import os\n",
        "\n",
        "data_path = \"/content/drive/MyDrive/DS340_Final_Project/Audio_Song_Actors_01-24\"\n",
        "base_out = \"/content/drive/MyDrive/DS340_Final_Project/augmented_spectrograms_noise\"\n",
        "\n",
        "os.makedirs(base_out, exist_ok=True)"
      ],
      "metadata": {
        "id": "M0YmQeLZTpeU"
      },
      "execution_count": 3,
      "outputs": []
    },
    {
      "cell_type": "code",
      "source": [
        "noise_levels = [0.005, 0.01, 0.02, 0.05,0.1]"
      ],
      "metadata": {
        "id": "F4ETSnIQT2Zr"
      },
      "execution_count": 4,
      "outputs": []
    },
    {
      "cell_type": "code",
      "source": [
        "emotion_map = {\n",
        "    \"01\":\"neutral\",\"02\":\"calm\",\"03\":\"happy\",\"04\":\"sad\",\n",
        "    \"05\":\"angry\",\"06\":\"fearful\",\"07\":\"disgust\",\"08\":\"surprised\"\n",
        "}"
      ],
      "metadata": {
        "id": "rAqUbzJcT5Ul"
      },
      "execution_count": 5,
      "outputs": []
    },
    {
      "cell_type": "code",
      "source": [
        "for eps in noise_levels:\n",
        "    # 1) create a noise‑level folder\n",
        "    noise_dir = os.path.join(data_path, f\"noise_{eps}\")\n",
        "    os.makedirs(noise_dir, exist_ok=True)\n",
        "\n",
        "    # 2) inside it, make one subfolder per emotion\n",
        "    for emo in emotion_map.values():\n",
        "        os.makedirs(os.path.join(noise_dir, emo), exist_ok=True)\n",
        "\n",
        "    # 3) process each actor / file\n",
        "    for actor in tqdm(os.listdir(data_path), desc=f\"Noise={eps}\"):\n",
        "        actor_path = os.path.join(data_path, actor)\n",
        "        if not os.path.isdir(actor_path):\n",
        "            continue\n",
        "\n",
        "        for fn in os.listdir(actor_path):\n",
        "            if not fn.endswith(\".wav\"):\n",
        "                continue\n",
        "\n",
        "            # pull out emotion code from filename\n",
        "            emotion_code = fn.split(\"-\")[2]\n",
        "            emotion = emotion_map.get(emotion_code)\n",
        "            if emotion is None:\n",
        "                continue\n",
        "\n",
        "            # load audio\n",
        "            wav_path = os.path.join(actor_path, fn)\n",
        "            y, sr = librosa.load(wav_path, sr=None)\n",
        "\n",
        "            # add white noise\n",
        "            noise = np.random.randn(len(y))\n",
        "            y_noisy = y + eps * noise\n",
        "\n",
        "            # compute mel‑spectrogram\n",
        "            S = librosa.feature.melspectrogram(\n",
        "                y=y_noisy, sr=sr, n_mels=128, fmax=8000\n",
        "            )\n",
        "            S_db = librosa.power_to_db(S, ref=np.max)\n",
        "\n",
        "            # plot & save\n",
        "            plt.figure(figsize=(3,3))\n",
        "            librosa.display.specshow(S_db, sr=sr,\n",
        "                                     x_axis='time', y_axis='mel')\n",
        "            plt.axis('off')\n",
        "\n",
        "            outname = fn.replace(\".wav\", f\"_noise{eps}.png\")\n",
        "            save_path = os.path.join(noise_dir, emotion, outname)\n",
        "            plt.savefig(save_path, bbox_inches='tight', pad_inches=0)\n",
        "            plt.close()"
      ],
      "metadata": {
        "colab": {
          "base_uri": "https://localhost:8080/"
        },
        "id": "PHEE4KmNT6EH",
        "outputId": "784633bc-f197-42cd-cfcf-aa96cdc2d45f"
      },
      "execution_count": null,
      "outputs": [
        {
          "output_type": "stream",
          "name": "stderr",
          "text": [
            "Noise=0.005: 100%|██████████| 25/25 [12:22<00:00, 29.69s/it]\n",
            "Noise=0.01: 100%|██████████| 26/26 [04:12<00:00,  9.71s/it]\n",
            "Noise=0.02:  85%|████████▌ | 23/27 [04:09<00:45, 11.36s/it]"
          ]
        }
      ]
    }
  ]
}